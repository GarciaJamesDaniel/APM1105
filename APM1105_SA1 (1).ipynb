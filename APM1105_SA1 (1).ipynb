{
 "cells": [
  {
   "cell_type": "markdown",
   "id": "09bb03f2-8ba4-408d-9c60-364d6d04fe8d",
   "metadata": {},
   "source": [
    "## 2. Write a program on the Fibonacci sequence using both iterations and recursion, and including rendering time to compare the performance of both approaches."
   ]
  },
  {
   "cell_type": "code",
   "execution_count": 1,
   "id": "53b47781-81ed-4783-aea6-d1df90e64ece",
   "metadata": {},
   "outputs": [
    {
     "name": "stdout",
     "output_type": "stream",
     "text": [
      "----Recursion----\n",
      "75025\n",
      "speed : 0.019003629684448242 seconds\n",
      "----Iteration----\n",
      "75025\n",
      "speed : 0.0 seconds\n"
     ]
    }
   ],
   "source": [
    "import time\n",
    "def recursion(num):\n",
    " if num <= 1:\n",
    "     return num\n",
    " else:\n",
    "    return recursion(num-1)+recursion(num-2)\n",
    "\n",
    "def iteration(num):\n",
    " seq = [0,1]\n",
    " for i in range(num):\n",
    "     seq.append(seq[-1]+seq[-2])\n",
    " return seq[-2]\n",
    "\n",
    "print(\"----Recursion----\")\n",
    "rec = time.time()\n",
    "\n",
    "print(recursion(25))\n",
    "print(\"speed : \" + str(time.time()-rec) + \" seconds\")\n",
    "\n",
    "print(\"----Iteration----\")\n",
    "rec2 = time.time()\n",
    "\n",
    "print(iteration(25))\n",
    "print(\"speed : \" + str(time.time()-rec2) + \" seconds\")"
   ]
  },
  {
   "cell_type": "markdown",
   "id": "3f33c45b-a31c-45eb-b60f-00990da22cdd",
   "metadata": {},
   "source": [
    "## 3. Write a program to find the solution to the equation x^3 + 5  using iterative formula "
   ]
  },
  {
   "cell_type": "code",
   "execution_count": null,
   "id": "01367290-02cb-4938-86ff-b546c867f1d9",
   "metadata": {},
   "outputs": [
    {
     "name": "stdout",
     "output_type": "stream",
     "text": [
      "x_0: 2\n",
      "x_2: 2.097\n",
      "x_3: 2.119\n",
      "x_4: 2.111\n",
      "x_5: 2.114\n",
      "x_6: 2.113\n"
     ]
    }
   ],
   "source": [
    "def eq(x):\n",
    "    return (20 - 5 * x) ** (1/3)\n",
    "\n",
    "ini = 2\n",
    "x = eq(ini)\n",
    "\n",
    "print(\"x_0:\", round(ini, 3))\n",
    "\n",
    "it = 1\n",
    "while round(x, 3) != round(ini, 3):\n",
    "    prev = x\n",
    "    x = eq(x)  \n",
    "    it += 1\n",
    "    if abs(x - prev) >= 0.001:  \n",
    "        print(f\"x_{it}:\", round(x, 3)) \n",
    "\n",
    "\n",
    "print(\"The answer to the equation is approximately:\", round(x, 3))\n"
   ]
  },
  {
   "cell_type": "code",
   "execution_count": null,
   "id": "85aae1db-2b66-4a40-a323-568196eda68f",
   "metadata": {},
   "outputs": [],
   "source": []
  }
 ],
 "metadata": {
  "kernelspec": {
   "display_name": "Python 3 (ipykernel)",
   "language": "python",
   "name": "python3"
  },
  "language_info": {
   "codemirror_mode": {
    "name": "ipython",
    "version": 3
   },
   "file_extension": ".py",
   "mimetype": "text/x-python",
   "name": "python",
   "nbconvert_exporter": "python",
   "pygments_lexer": "ipython3",
   "version": "3.10.1"
  }
 },
 "nbformat": 4,
 "nbformat_minor": 5
}
