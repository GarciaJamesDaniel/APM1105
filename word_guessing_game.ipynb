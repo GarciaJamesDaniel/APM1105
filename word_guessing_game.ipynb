{
 "cells": [
  {
   "cell_type": "code",
   "execution_count": 2,
   "id": "a0ae2b82-468d-4f74-a09e-a7055d6ae593",
   "metadata": {},
   "outputs": [
    {
     "name": "stdout",
     "output_type": "stream",
     "text": [
      "Dataset saved to file.\n"
     ]
    }
   ],
   "source": [
    "import requests\n",
    "\n",
    "# URL of the raw dataset file on GitHub\n",
    "url = 'https://raw.githubusercontent.com/AllenDowney/ThinkPython2/master/code/words.txt'\n",
    "\n",
    "# Send a GET request to the URL\n",
    "response = requests.get(url)\n",
    "\n",
    "# Check if the request was successful\n",
    "if response.status_code == 200:\n",
    "    # Save the content of the response to a file\n",
    "    with open('words.txt', 'wb') as f:\n",
    "        f.write(response.content)\n",
    "        print('Dataset saved to file.')\n",
    "else:\n",
    "    print('Failed to download dataset.')\n"
   ]
  },
  {
   "cell_type": "code",
   "execution_count": 5,
   "id": "3451381f-1c96-423a-ba30-b582c99465f0",
   "metadata": {},
   "outputs": [
    {
     "name": "stdout",
     "output_type": "stream",
     "text": [
      "WORD GUESSING GAME\n",
      "_ _ _ _ _ "
     ]
    },
    {
     "name": "stdin",
     "output_type": "stream",
     "text": [
      "\n",
      "Make a guess:  a\n"
     ]
    },
    {
     "name": "stdout",
     "output_type": "stream",
     "text": [
      "_ _ _ a _ "
     ]
    },
    {
     "name": "stdin",
     "output_type": "stream",
     "text": [
      "\n",
      "Make a guess:  b\n"
     ]
    },
    {
     "name": "stdout",
     "output_type": "stream",
     "text": [
      "Wrong! You have 9 more chances\n",
      "_ _ _ a _ "
     ]
    },
    {
     "name": "stdin",
     "output_type": "stream",
     "text": [
      "\n",
      "Make a guess:  c\n"
     ]
    },
    {
     "name": "stdout",
     "output_type": "stream",
     "text": [
      "Wrong! You have 8 more chances\n",
      "_ _ _ a _ "
     ]
    },
    {
     "name": "stdin",
     "output_type": "stream",
     "text": [
      "\n",
      "Make a guess:  d\n"
     ]
    },
    {
     "name": "stdout",
     "output_type": "stream",
     "text": [
      "Wrong! You have 7 more chances\n",
      "_ _ _ a _ "
     ]
    },
    {
     "name": "stdin",
     "output_type": "stream",
     "text": [
      "\n",
      "Make a guess:  e\n"
     ]
    },
    {
     "name": "stdout",
     "output_type": "stream",
     "text": [
      "Wrong! You have 6 more chances\n",
      "_ _ _ a _ "
     ]
    },
    {
     "name": "stdin",
     "output_type": "stream",
     "text": [
      "\n",
      "Make a guess:  f\n"
     ]
    },
    {
     "name": "stdout",
     "output_type": "stream",
     "text": [
      "Wrong! You have 5 more chances\n",
      "_ _ _ a _ "
     ]
    },
    {
     "name": "stdin",
     "output_type": "stream",
     "text": [
      "\n",
      "Make a guess:  g\n"
     ]
    },
    {
     "name": "stdout",
     "output_type": "stream",
     "text": [
      "Wrong! You have 4 more chances\n",
      "_ _ _ a _ "
     ]
    },
    {
     "name": "stdin",
     "output_type": "stream",
     "text": [
      "\n",
      "Make a guess:  h\n"
     ]
    },
    {
     "name": "stdout",
     "output_type": "stream",
     "text": [
      "Wrong! You have 3 more chances\n",
      "_ _ _ a _ "
     ]
    },
    {
     "name": "stdin",
     "output_type": "stream",
     "text": [
      "\n",
      "Make a guess:  i\n"
     ]
    },
    {
     "name": "stdout",
     "output_type": "stream",
     "text": [
      "Wrong! You have 2 more chances\n",
      "_ _ _ a _ "
     ]
    },
    {
     "name": "stdin",
     "output_type": "stream",
     "text": [
      "\n",
      "Make a guess:  j\n"
     ]
    },
    {
     "name": "stdout",
     "output_type": "stream",
     "text": [
      "Wrong! You have 1 more chances\n",
      "_ _ _ a _ "
     ]
    },
    {
     "name": "stdin",
     "output_type": "stream",
     "text": [
      "\n",
      "Make a guess:  k\n"
     ]
    },
    {
     "name": "stdout",
     "output_type": "stream",
     "text": [
      "Wrong! You have 0 more chances\n",
      "Game over! The word is notal\n"
     ]
    }
   ],
   "source": [
    "import random\n",
    "\n",
    "with open('words.txt', 'r') as file:\n",
    "    words = file.readlines()\n",
    "\n",
    "random_word = random.choice(words).strip().lower()\n",
    "\n",
    "print(\"WORD GUESSING GAME\")\n",
    "\n",
    "user_guesses = ''\n",
    "chances = 10\n",
    "\n",
    "while chances > 0:\n",
    "    wrong_guess = 0\n",
    "    for ch in random_word:\n",
    "        if ch in user_guesses:\n",
    "            print(ch, end=' ')\n",
    "        else:\n",
    "            print('_', end=' ')\n",
    "            wrong_guess += 1\n",
    "    if wrong_guess == 0:\n",
    "        print('\\nCongratulations! The word is', random_word)\n",
    "        break\n",
    "    guess = input('\\nMake a guess: ').lower()\n",
    "    if len(guess) != 1:\n",
    "        print(\"Please enter a single letter.\")\n",
    "        continue\n",
    "    if guess in user_guesses:\n",
    "        print(\"You've already guessed that letter.\")\n",
    "        continue\n",
    "\n",
    "    user_guesses += guess\n",
    "    if guess not in random_word:\n",
    "        chances -= 1\n",
    "        print(f'Wrong! You have {chances} more chances')\n",
    "        if chances == 0:\n",
    "            print('Game over! The word is', random_word)\n",
    "            break\n"
   ]
  },
  {
   "cell_type": "code",
   "execution_count": null,
   "id": "2f21c604-0348-4e12-9686-4e6d6066b8a7",
   "metadata": {},
   "outputs": [],
   "source": []
  }
 ],
 "metadata": {
  "kernelspec": {
   "display_name": "Python 3 (ipykernel)",
   "language": "python",
   "name": "python3"
  },
  "language_info": {
   "codemirror_mode": {
    "name": "ipython",
    "version": 3
   },
   "file_extension": ".py",
   "mimetype": "text/x-python",
   "name": "python",
   "nbconvert_exporter": "python",
   "pygments_lexer": "ipython3",
   "version": "3.10.1"
  }
 },
 "nbformat": 4,
 "nbformat_minor": 5
}
