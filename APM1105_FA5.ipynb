{
 "cells": [
  {
   "cell_type": "code",
   "execution_count": null,
   "id": "d70e9433-6ed0-46b8-8c0e-8f3d92dc44dc",
   "metadata": {},
   "outputs": [],
   "source": [
    "import turtle\n",
    "import math\n",
    "wn = turtle.Screen()\n",
    "wn.bgcolor(\"white\")\n",
    "wn.title(\"Turtle Fence\")\n",
    "\n",
    "# Set up turtle\n",
    "t = turtle.Turtle()\n",
    "t.shape(\"turtle\")\n",
    "t.color(\"blue\")\n",
    "t.speed(0)\n",
    "\n",
    "def draw_fence(radius):\n",
    "    t.penup()\n",
    "    t.goto(0, -radius)\n",
    "    t.pendown()\n",
    "    t.circle(radius)\n",
    "\n",
    "def distance(x1, y1, x2, y2):\n",
    "    return math.sqrt((x2 - x1)**2 + (y2 - y1)**2)\n",
    "\n",
    "def bounce_off_fence(turtle, radius):\n",
    "    x, y = turtle.position()\n",
    "    if distance(x, y, 0, 0) > radius:\n",
    "        angle = math.atan2(y, x)\n",
    "        new_angle = math.pi - angle\n",
    "        new_x = radius * math.cos(new_angle)\n",
    "        new_y = radius * math.sin(new_angle)\n",
    "        new_heading = math.degrees(new_angle) - 180  # Adjusting heading for turtle orientation\n",
    "        turtle.setheading(new_heading)\n",
    "        turtle.goto(new_x, new_y)\n",
    "\n",
    "\n",
    "draw_fence(100)\n",
    "\n",
    "while True:\n",
    "    t.forward(10)\n",
    "    if abs(t.position()) >= 100:\n",
    "        bounce_off_fence(t, 100)"
   ]
  },
  {
   "cell_type": "code",
   "execution_count": null,
   "id": "8f595940-37e7-4720-801e-cef951a3d1eb",
   "metadata": {},
   "outputs": [],
   "source": []
  },
  {
   "cell_type": "code",
   "execution_count": null,
   "id": "a5176612-9360-483a-a7a5-3b2e09b4411a",
   "metadata": {},
   "outputs": [],
   "source": []
  }
 ],
 "metadata": {
  "kernelspec": {
   "display_name": "Python 3 (ipykernel)",
   "language": "python",
   "name": "python3"
  },
  "language_info": {
   "codemirror_mode": {
    "name": "ipython",
    "version": 3
   },
   "file_extension": ".py",
   "mimetype": "text/x-python",
   "name": "python",
   "nbconvert_exporter": "python",
   "pygments_lexer": "ipython3",
   "version": "3.10.1"
  }
 },
 "nbformat": 4,
 "nbformat_minor": 5
}
