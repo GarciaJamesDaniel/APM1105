{
  "nbformat": 4,
  "nbformat_minor": 0,
  "metadata": {
    "colab": {
      "provenance": [],
      "authorship_tag": "ABX9TyPR7+gDbZr8FHYCy4BsqCGR",
      "include_colab_link": true
    },
    "kernelspec": {
      "name": "python3",
      "display_name": "Python 3"
    },
    "language_info": {
      "name": "python"
    }
  },
  "cells": [
    {
      "cell_type": "markdown",
      "metadata": {
        "id": "view-in-github",
        "colab_type": "text"
      },
      "source": [
        "<a href=\"https://colab.research.google.com/github/GarciaJamesDaniel/APM1105/blob/main/APM1105_FA4.ipynb\" target=\"_parent\"><img src=\"https://colab.research.google.com/assets/colab-badge.svg\" alt=\"Open In Colab\"/></a>"
      ]
    },
    {
      "cell_type": "markdown",
      "source": [
        "## 1.Write a Python program to print the even numbers from a given list."
      ],
      "metadata": {
        "id": "STJVOfwwL1SO"
      }
    },
    {
      "cell_type": "code",
      "execution_count": null,
      "metadata": {
        "colab": {
          "base_uri": "https://localhost:8080/"
        },
        "id": "MI4fZla9LWVY",
        "outputId": "bcef7073-04ae-4c22-d246-e330c5aa6d89"
      },
      "outputs": [
        {
          "output_type": "stream",
          "name": "stdout",
          "text": [
            "2  4  6  8  10  24  26  28  30  32  "
          ]
        }
      ],
      "source": [
        "list = [1, 2, 3, 4, 5, 6, 7, 8, 9, 10, 11, 13, 15, 17, 19, 24, 26, 28, 30, 32]\n",
        "for num in list:\n",
        " if num % 2 == 0:\n",
        "  print(num, end=\"  \")"
      ]
    },
    {
      "cell_type": "markdown",
      "source": [
        "## 2.Generate a Python list of all the even numbers between 10 to 60."
      ],
      "metadata": {
        "id": "LHjBxi13MA6f"
      }
    },
    {
      "cell_type": "code",
      "source": [
        "even=[]\n",
        "for num in range(10,60):\n",
        "    if num % 2 == 0:\n",
        "         even.append(num)\n",
        "print(even)"
      ],
      "metadata": {
        "colab": {
          "base_uri": "https://localhost:8080/"
        },
        "id": "jSiNQ_V3LZz5",
        "outputId": "afd9de62-d986-4667-8121-0755ed499a33"
      },
      "execution_count": null,
      "outputs": [
        {
          "output_type": "stream",
          "name": "stdout",
          "text": [
            "[10, 12, 14, 16, 18, 20, 22, 24, 26, 28, 30, 32, 34, 36, 38, 40, 42, 44, 46, 48, 50, 52, 54, 56, 58]\n"
          ]
        }
      ]
    },
    {
      "cell_type": "markdown",
      "source": [
        "## 3.Write a program to create a function show_feu_professor() using the following conditions:\n",
        "\n",
        "It should accept the professor’s name and salary and display both.\n",
        "If the salary is missing in the function call then assign default value 70000 to salary.\n",
        "Expected output: Display of at least 5 FEU professors with their salaries."
      ],
      "metadata": {
        "id": "IZn2081rMF7Q"
      }
    },
    {
      "cell_type": "code",
      "source": [
        "def show_feu_professor(name, salary=70000):\n",
        "    print(f\"Professor: {name}\")\n",
        "    print(f\"Salary: {salary}\")\n",
        "    print()\n",
        "\n",
        "\n",
        "professors = [\n",
        "    (\"ERIC JAYSON V. ASUNCION\", 6700),\n",
        "    (\"MELQUIADES A. ACOMULAR, JR.\", ),\n",
        "    (\"DULCE MARIE P. NISPEROS\", 35000),\n",
        "    (\"ROMAN R. SARMIENTO JR.\", ),\n",
        "    (\"AGNES BEATRICE S. SILVA\", 72000)\n",
        "]\n",
        "\n",
        "print(\"Information about FEU Professors:\")\n",
        "print(\"---------------------------------\")\n",
        "for professor in professors:\n",
        "    show_feu_professor(*professor)"
      ],
      "metadata": {
        "colab": {
          "base_uri": "https://localhost:8080/"
        },
        "id": "poHV287qL0kn",
        "outputId": "7315dce1-ff33-4429-ed68-c828c282c293"
      },
      "execution_count": null,
      "outputs": [
        {
          "output_type": "stream",
          "name": "stdout",
          "text": [
            "Information about FEU Professors:\n",
            "---------------------------------\n",
            "Professor: ERIC JAYSON V. ASUNCION\n",
            "Salary: 6700\n",
            "\n",
            "Professor: MELQUIADES A. ACOMULAR, JR.\n",
            "Salary: 70000\n",
            "\n",
            "Professor: DULCE MARIE P. NISPEROS\n",
            "Salary: 35000\n",
            "\n",
            "Professor: ROMAN R. SARMIENTO JR.\n",
            "Salary: 70000\n",
            "\n",
            "Professor: AGNES BEATRICE S. SILVA\n",
            "Salary: 72000\n",
            "\n"
          ]
        }
      ]
    }
  ]
}