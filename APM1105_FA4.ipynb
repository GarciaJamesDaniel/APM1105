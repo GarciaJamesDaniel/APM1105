{
 "cells": [
  {
   "cell_type": "markdown",
   "id": "c90b30eb-7e73-4e3f-af7d-f0dcd6fa7bbf",
   "metadata": {},
   "source": [
    "## 1.Write a Python program to print the even numbers from a given list."
   ]
  },
  {
   "cell_type": "code",
   "execution_count": 1,
   "id": "729df527-c2ab-4278-be77-803bd196a7a4",
   "metadata": {},
   "outputs": [
    {
     "name": "stdout",
     "output_type": "stream",
     "text": [
      "2  4  6  8  10  24  26  28  30  32  "
     ]
    }
   ],
   "source": [
    "list = [1, 2, 3, 4, 5, 6, 7, 8, 9, 10, 11, 13, 15, 17, 19, 24, 26, 28, 30, 32]\n",
    "for num in list:\n",
    " if num % 2 == 0:\n",
    "  print(num, end=\"  \")"
   ]
  },
  {
   "cell_type": "markdown",
   "id": "503df8a8-9563-4c12-8bf1-bb0e4522626e",
   "metadata": {},
   "source": [
    "## 2.Generate a Python list of all the even numbers between 10 to 60."
   ]
  },
  {
   "cell_type": "code",
   "execution_count": 2,
   "id": "c050e752-d5df-489b-a190-174d66c39a45",
   "metadata": {},
   "outputs": [
    {
     "name": "stdout",
     "output_type": "stream",
     "text": [
      "[10, 12, 14, 16, 18, 20, 22, 24, 26, 28, 30, 32, 34, 36, 38, 40, 42, 44, 46, 48, 50, 52, 54, 56, 58]\n"
     ]
    }
   ],
   "source": [
    "even=[]\n",
    "for num in range(10,60):\n",
    "    if num % 2 == 0:\n",
    "         even.append(num)\n",
    "print(even)"
   ]
  },
  {
   "cell_type": "markdown",
   "id": "dd37f3dc-5de9-44e3-a7fa-18974fdb5b07",
   "metadata": {},
   "source": [
    "## 3.Write a program to create a function show_feu_professor() using the following conditions:\r\n",
    "It should accept the professor’s name and salary and display both.\n",
    " If the salary is missing in the function call then assign default value 70000 to salary.\n",
    " Expected output: Display of at least 5 FEU professors with their salaries."
   ]
  },
  {
   "cell_type": "code",
   "execution_count": 3,
   "id": "f9648790-7052-474c-8614-e079321db6fe",
   "metadata": {},
   "outputs": [
    {
     "name": "stdout",
     "output_type": "stream",
     "text": [
      "Information about FEU Professors:\n",
      "---------------------------------\n",
      "Professor: ERIC JAYSON V. ASUNCION\n",
      "Salary: 6700\n",
      "\n",
      "Professor: MELQUIADES A. ACOMULAR, JR.\n",
      "Salary: 70000\n",
      "\n",
      "Professor: DULCE MARIE P. NISPEROS\n",
      "Salary: 35000\n",
      "\n",
      "Professor: ROMAN R. SARMIENTO JR.\n",
      "Salary: 70000\n",
      "\n",
      "Professor: AGNES BEATRICE S. SILVA\n",
      "Salary: 72000\n",
      "\n"
     ]
    }
   ],
   "source": [
    "def show_feu_professor(name, salary=70000):\n",
    "    print(f\"Professor: {name}\")\n",
    "    print(f\"Salary: {salary}\")\n",
    "    print()\n",
    "\n",
    "\n",
    "professors = [\n",
    "    (\"ERIC JAYSON V. ASUNCION\", 6700),\n",
    "    (\"MELQUIADES A. ACOMULAR, JR.\", ),\n",
    "    (\"DULCE MARIE P. NISPEROS\", 35000),\n",
    "    (\"ROMAN R. SARMIENTO JR.\", ),\n",
    "    (\"AGNES BEATRICE S. SILVA\", 72000)\n",
    "]\n",
    "\n",
    "print(\"Information about FEU Professors:\")\n",
    "print(\"---------------------------------\")\n",
    "for professor in professors:\n",
    "    show_feu_professor(*professor)"
   ]
  }
 ],
 "metadata": {
  "kernelspec": {
   "display_name": "Python 3 (ipykernel)",
   "language": "python",
   "name": "python3"
  },
  "language_info": {
   "codemirror_mode": {
    "name": "ipython",
    "version": 3
   },
   "file_extension": ".py",
   "mimetype": "text/x-python",
   "name": "python",
   "nbconvert_exporter": "python",
   "pygments_lexer": "ipython3",
   "version": "3.10.1"
  }
 },
 "nbformat": 4,
 "nbformat_minor": 5
}
