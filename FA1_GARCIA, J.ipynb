{
 "cells": [
  {
   "cell_type": "markdown",
   "id": "da2f7126-8a7f-46c8-9b84-308b9a893444",
   "metadata": {},
   "source": [
    "# Exercises 1-2"
   ]
  },
  {
   "cell_type": "markdown",
   "id": "26305adc-c17b-4079-83f6-c06b0f37a16f",
   "metadata": {},
   "source": [
    "## 1. How many seconds are there in 42 minutes 42 seconds?"
   ]
  },
  {
   "cell_type": "code",
   "execution_count": 27,
   "id": "a5dc46c4-af4a-4407-8cbf-e8a6455c5008",
   "metadata": {},
   "outputs": [
    {
     "name": "stdout",
     "output_type": "stream",
     "text": [
      "There are 2562.00 seconds in 42 minutes and 42 seconds\n"
     ]
    }
   ],
   "source": [
    "hrs = 42.7\n",
    "mins = 60\n",
    "secs = mins * hrs\n",
    "\n",
    "print('There are %0.2f seconds in 42 minutes and 42 seconds!' % secs)"
   ]
  },
  {
   "cell_type": "markdown",
   "id": "46a5946a-31c8-4ba0-89de-252e3e1db162",
   "metadata": {},
   "source": [
    "## 2. How many miles are there in 10 kilometers? Hint: there are 1.61 kilometers in a mile."
   ]
  },
  {
   "cell_type": "code",
   "execution_count": 32,
   "id": "f24c957e-7781-4685-8fb1-a3587f6fb749",
   "metadata": {},
   "outputs": [
    {
     "name": "stdout",
     "output_type": "stream",
     "text": [
      "There are 6.21 miles in 10 kilometers!\n"
     ]
    }
   ],
   "source": [
    "km = 10\n",
    "km_per_mi = 1.61\n",
    "mi = km / km_per_mi\n",
    "print('There are %0.2f miles in 10 kilometers!' % mi)"
   ]
  },
  {
   "cell_type": "markdown",
   "id": "401d33ef-764b-4170-add1-d9ff634605f1",
   "metadata": {},
   "source": [
    "## 3. If you run a 10 kilometer race in 42 minutes 42 seconds, what is your average pace (time per mile in minutes and seconds)? What is your average speed in miles per hour? "
   ]
  },
  {
   "cell_type": "code",
   "execution_count": 40,
   "id": "7d9ba0d6-66f9-4147-a01a-2207c43defea",
   "metadata": {},
   "outputs": [
    {
     "name": "stdout",
     "output_type": "stream",
     "text": [
      "Exercises 1-2. Item 3\n",
      "\n",
      "Average pace: 6.874700000000002\n",
      "Average speed: 8.727653570337614\n"
     ]
    }
   ],
   "source": [
    "from __future__ import print_function, division\n",
    "print(\"Exercises 1-2. Item 3\\n\")\n",
    "\n",
    "km = 10\n",
    "km_per_mi = 1.61\n",
    "mi = km / km_per_mi\n",
    "\n",
    "mins = 42.7\n",
    "hrs = mins / 60\n",
    "\n",
    "\n",
    "pace = mins / mi\n",
    "speed = mi / hrs\n",
    "\n",
    "print(\"Average pace:\", pace)\n",
    "print(\"Average speed:\", speed)\n"
   ]
  }
 ],
 "metadata": {
  "kernelspec": {
   "display_name": "Python 3 (ipykernel)",
   "language": "python",
   "name": "python3"
  },
  "language_info": {
   "codemirror_mode": {
    "name": "ipython",
    "version": 3
   },
   "file_extension": ".py",
   "mimetype": "text/x-python",
   "name": "python",
   "nbconvert_exporter": "python",
   "pygments_lexer": "ipython3",
   "version": "3.10.1"
  }
 },
 "nbformat": 4,
 "nbformat_minor": 5
}
